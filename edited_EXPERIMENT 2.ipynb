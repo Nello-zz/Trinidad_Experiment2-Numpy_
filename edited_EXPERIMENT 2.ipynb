{
 "cells": [
  {
   "cell_type": "markdown",
   "id": "492f845f-7c6e-4f65-9b45-be286b7df3c2",
   "metadata": {},
   "source": [
    "## EXPERIMENT 2: Using Numpy"
   ]
  },
  {
   "cell_type": "markdown",
   "id": "e0a389b7-422f-4cec-b7f0-803945cd5e9e",
   "metadata": {},
   "source": [
    "### PROBLEM 1: Normalization"
   ]
  },
  {
   "cell_type": "raw",
   "id": "38d71d25-785d-406e-9013-f0888b8cd0b9",
   "metadata": {},
   "source": [
    "Instruction: \n",
    "› Create a random 5x5 ndarray and store it in the variable X. Normalize X using the z-score formula:\n",
    "\n",
    "                                         𝑍 = (𝑋 − 𝑥̅) / σ\n",
    "\n",
    "Here, x̄ is the mean and σ is the standard deviation. In Python, you can calculate the mean and standard deviation element-wise using the .mean() and .std() functions, respectively.\n",
    "\n",
    "› Save your normalized ndarray as X_normalized.npy."
   ]
  },
  {
   "cell_type": "code",
   "execution_count": 5,
   "id": "dbb22cbc-b48c-4f59-be9e-e12020a43a43",
   "metadata": {
    "scrolled": true
   },
   "outputs": [
    {
     "name": "stdout",
     "output_type": "stream",
     "text": [
      "Normalized X:\n",
      " [[ 1.05529866  1.56510478  0.41804102 -1.1751031  -0.60157122]\n",
      " [ 1.37392748 -1.43000616  0.92784713 -1.23882886  0.8003956 ]\n",
      " [ 1.56510478 -1.1751031  -1.49373192 -0.02803934 -0.15549087]\n",
      " [ 0.8003956  -1.55745769 -0.98392581  0.29058949 -0.0917651 ]\n",
      " [ 0.67294407  0.60921831 -0.72902275 -0.34666816  0.92784713]]\n"
     ]
    }
   ],
   "source": [
    "import numpy as np\n",
    "\n",
    "# Create a random 5x5 ndarray named X with values in the range (0, 50)\n",
    "X = np.random.randint(0, 50, (5, 5))\n",
    "\n",
    "# Calculate the mean and standard deviation\n",
    "mean = np.mean(X)\n",
    "std = np.std(X)\n",
    "\n",
    "# Calculate the z-score \n",
    "X_normalized = (X - mean) / std\n",
    "\n",
    "# Save the normalized array to a file\n",
    "np.save('X_normalized.npy', X_normalized)\n",
    "\n",
    "# Print the normalized array\n",
    "print(\"Normalized X:\\n\", X_normalized)"
   ]
  },
  {
   "cell_type": "markdown",
   "id": "a2f17299-3709-4d2a-8d65-dad929adb611",
   "metadata": {},
   "source": [
    "### PROBLEM 2: Indexing of Arrays"
   ]
  },
  {
   "cell_type": "raw",
   "id": "d2d5e37e-4907-43d5-a47b-a96edab50160",
   "metadata": {},
   "source": [
    "Instruction:\n",
    "› Create a 10x10 ndarray containing the squares of the first 100 positive integers. From this array, find all the elements that are divisible by 3. \n",
    "› Save the result as div_by_3.npy."
   ]
  },
  {
   "cell_type": "code",
   "execution_count": 9,
   "id": "0c125886-12a0-4a06-8a41-a1bb186094ff",
   "metadata": {},
   "outputs": [
    {
     "name": "stdout",
     "output_type": "stream",
     "text": [
      "Elements divisible by 3: [   9   36   81  144  225  324  441  576  729  900 1089 1296 1521 1764\n",
      " 2025 2304 2601 2916 3249 3600 3969 4356 4761 5184 5625 6084 6561 7056\n",
      " 7569 8100 8649 9216 9801]\n"
     ]
    }
   ],
   "source": [
    "# Create a 10x10 array with values from 1 to 100\n",
    "A = np.arange(1, 101).reshape(10, 10)\n",
    "\n",
    "# Square all elements in the array\n",
    "squared_A = A ** 2\n",
    "\n",
    "# Use modulus operation and boolean indexing to get elements divisible by 3\n",
    "div_by_3 = squared_A[squared_A % 3 == 0]\n",
    "\n",
    "# Save the result to a file\n",
    "np.save('div_by_3.npy', div_by_3)\n",
    "\n",
    "# Print elements divisible by 3 in squared_A\n",
    "print(\"Elements divisible by 3:\", div_by_3)\n"
   ]
  },
  {
   "cell_type": "code",
   "execution_count": null,
   "id": "6903daf9-cbab-4a07-9a46-d6f2113da6a1",
   "metadata": {},
   "outputs": [],
   "source": []
  }
 ],
 "metadata": {
  "kernelspec": {
   "display_name": "Python 3 (ipykernel)",
   "language": "python",
   "name": "python3"
  },
  "language_info": {
   "codemirror_mode": {
    "name": "ipython",
    "version": 3
   },
   "file_extension": ".py",
   "mimetype": "text/x-python",
   "name": "python",
   "nbconvert_exporter": "python",
   "pygments_lexer": "ipython3",
   "version": "3.12.4"
  }
 },
 "nbformat": 4,
 "nbformat_minor": 5
}
